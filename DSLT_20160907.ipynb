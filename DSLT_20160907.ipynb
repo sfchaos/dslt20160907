{
 "cells": [
  {
   "cell_type": "markdown",
   "metadata": {
    "slideshow": {
     "slide_type": "slide"
    }
   },
   "source": [
    "# RISE:Jupyter Notebookでお手軽スライド作成"
   ]
  },
  {
   "cell_type": "markdown",
   "metadata": {
    "slideshow": {
     "slide_type": "-"
    }
   },
   "source": [
    "2016年9月7日<br>DataScience Lightning Talk<br>@sfchaos"
   ]
  },
  {
   "cell_type": "markdown",
   "metadata": {
    "slideshow": {
     "slide_type": "slide"
    }
   },
   "source": [
    "# 自己紹介\n",
    "+ twitter:  [@sfchaos](https://twitter.com/sfchaos)\n",
    "+ クルマ関係のデータマイニング，機械学習\n",
    "+ 本日の資料はこちら: https://github.com/sfchaos/dslt20160907\n",
    "<img src=\"fig/sfchaos_image.jpg\" align=\"center\" width=\"15%\">"
   ]
  },
  {
   "cell_type": "markdown",
   "metadata": {
    "heading_collapsed": true,
    "slideshow": {
     "slide_type": "slide"
    }
   },
   "source": [
    "# みんな大好きJupyter Notebook\n",
    "- Webブランザ上のインタラクティブなシェル環境\n",
    "- Pythonだけでなく多数の言語をサポート (R, Julia, ...)\n",
    "<img src=\"fig/Jupyter_Notebook_screen.png\" align=\"center\" width=\"60%\">"
   ]
  },
  {
   "cell_type": "markdown",
   "metadata": {
    "slideshow": {
     "slide_type": "slide"
    }
   },
   "source": [
    "# RISE\n",
    "- reveal.jsを使用して，簡易的に動的なスライドを作成\n",
    "<img src=\"fig/RISE_github.png\" align=\"center\" width=\"50%\">\n",
    "<p style=\\\"text-align:center;font-size:300%;line-height:300%\\\">\n",
    "[https://github.com/damianavila/RISE](https://github.com/damianavila/RISE)"
   ]
  },
  {
   "cell_type": "markdown",
   "metadata": {
    "slideshow": {
     "slide_type": "subslide"
    }
   },
   "source": [
    "# 素晴らしい記事・資料の数々 (順不同)\n",
    "- [Jupyter 環境設定補足 #pythontokai (http://qiita.com/antimon2/items/a8cd98257219773b9ef3)](http://qiita.com/antimon2/items/a8cd98257219773b9ef3)\n",
    "- [Jupyter Notebookを動的に使ってみる (http://qiita.com/y__sama/items/654ed8ab7464718876f9#rise)](http://qiita.com/y__sama/items/654ed8ab7464718876f9#rise)\n",
    "- [Jupyter Notebookでスライドショーを作る (http://ohtomi.hatenablog.com/entry/2016/01/17/003929)](http://ohtomi.hatenablog.com/entry/2016/01/17/003929)\n",
    "- [Jupyter Notebook + RISE でスライド作ってトークしてきたというお話 http://bugrammer.hateblo.jp/entry/2016/07/04/081032](http://bugrammer.hateblo.jp/entry/2016/07/04/081032)\n",
    "- [IPython Revealjs Attacks Again, But Now It Is Alive (https://www.youtube.com/watch?v=sZBKruEh0jI) : 開発者によるSciPy2014の公園](https://www.youtube.com/watch?v=sZBKruEh0jI)"
   ]
  },
  {
   "cell_type": "markdown",
   "metadata": {
    "slideshow": {
     "slide_type": "slide"
    }
   },
   "source": [
    "# インストール"
   ]
  },
  {
   "cell_type": "code",
   "execution_count": 1,
   "metadata": {
    "collapsed": true,
    "slideshow": {
     "slide_type": "subslide"
    }
   },
   "outputs": [
    {
     "name": "stdout",
     "output_type": "stream",
     "text": [
      "running install\n",
      "running build\n",
      "running build_py\n",
      "running install_lib\n",
      "copying build/lib/rise/__init__.py -> /Users/fukushima/.pyenv/versions/anaconda3-4.0.0/lib/python3.5/site-packages/rise\n",
      "copying build/lib/rise/_version.py -> /Users/fukushima/.pyenv/versions/anaconda3-4.0.0/lib/python3.5/site-packages/rise\n",
      "copying build/lib/rise/static/main.css -> /Users/fukushima/.pyenv/versions/anaconda3-4.0.0/lib/python3.5/site-packages/rise/static\n",
      "copying build/lib/rise/static/main.js -> /Users/fukushima/.pyenv/versions/anaconda3-4.0.0/lib/python3.5/site-packages/rise/static\n",
      "copying build/lib/rise/static/main.orig.css -> /Users/fukushima/.pyenv/versions/anaconda3-4.0.0/lib/python3.5/site-packages/rise/static\n",
      "copying build/lib/rise/static/reset_reveal.css -> /Users/fukushima/.pyenv/versions/anaconda3-4.0.0/lib/python3.5/site-packages/rise/static\n",
      "copying build/lib/rise/static/reveal.js/css/print/paper.css -> /Users/fukushima/.pyenv/versions/anaconda3-4.0.0/lib/python3.5/site-packages/rise/static/reveal.js/css/print\n",
      "copying build/lib/rise/static/reveal.js/css/print/pdf.css -> /Users/fukushima/.pyenv/versions/anaconda3-4.0.0/lib/python3.5/site-packages/rise/static/reveal.js/css/print\n",
      "copying build/lib/rise/static/reveal.js/css/reveal.css -> /Users/fukushima/.pyenv/versions/anaconda3-4.0.0/lib/python3.5/site-packages/rise/static/reveal.js/css\n",
      "copying build/lib/rise/static/reveal.js/css/reveal.min.css -> /Users/fukushima/.pyenv/versions/anaconda3-4.0.0/lib/python3.5/site-packages/rise/static/reveal.js/css\n",
      "copying build/lib/rise/static/reveal.js/css/theme/beige.css -> /Users/fukushima/.pyenv/versions/anaconda3-4.0.0/lib/python3.5/site-packages/rise/static/reveal.js/css/theme\n",
      "copying build/lib/rise/static/reveal.js/css/theme/blood.css -> /Users/fukushima/.pyenv/versions/anaconda3-4.0.0/lib/python3.5/site-packages/rise/static/reveal.js/css/theme\n",
      "copying build/lib/rise/static/reveal.js/css/theme/default.css -> /Users/fukushima/.pyenv/versions/anaconda3-4.0.0/lib/python3.5/site-packages/rise/static/reveal.js/css/theme\n",
      "copying build/lib/rise/static/reveal.js/css/theme/moon.css -> /Users/fukushima/.pyenv/versions/anaconda3-4.0.0/lib/python3.5/site-packages/rise/static/reveal.js/css/theme\n",
      "copying build/lib/rise/static/reveal.js/css/theme/night.css -> /Users/fukushima/.pyenv/versions/anaconda3-4.0.0/lib/python3.5/site-packages/rise/static/reveal.js/css/theme\n",
      "copying build/lib/rise/static/reveal.js/css/theme/README.md -> /Users/fukushima/.pyenv/versions/anaconda3-4.0.0/lib/python3.5/site-packages/rise/static/reveal.js/css/theme\n",
      "copying build/lib/rise/static/reveal.js/css/theme/serif.css -> /Users/fukushima/.pyenv/versions/anaconda3-4.0.0/lib/python3.5/site-packages/rise/static/reveal.js/css/theme\n",
      "copying build/lib/rise/static/reveal.js/css/theme/simple.css -> /Users/fukushima/.pyenv/versions/anaconda3-4.0.0/lib/python3.5/site-packages/rise/static/reveal.js/css/theme\n",
      "copying build/lib/rise/static/reveal.js/css/theme/sky.css -> /Users/fukushima/.pyenv/versions/anaconda3-4.0.0/lib/python3.5/site-packages/rise/static/reveal.js/css/theme\n",
      "copying build/lib/rise/static/reveal.js/css/theme/solarized.css -> /Users/fukushima/.pyenv/versions/anaconda3-4.0.0/lib/python3.5/site-packages/rise/static/reveal.js/css/theme\n",
      "copying build/lib/rise/static/reveal.js/css/theme/source/beige.scss -> /Users/fukushima/.pyenv/versions/anaconda3-4.0.0/lib/python3.5/site-packages/rise/static/reveal.js/css/theme/source\n",
      "copying build/lib/rise/static/reveal.js/css/theme/source/blood.scss -> /Users/fukushima/.pyenv/versions/anaconda3-4.0.0/lib/python3.5/site-packages/rise/static/reveal.js/css/theme/source\n",
      "copying build/lib/rise/static/reveal.js/css/theme/source/default.scss -> /Users/fukushima/.pyenv/versions/anaconda3-4.0.0/lib/python3.5/site-packages/rise/static/reveal.js/css/theme/source\n",
      "copying build/lib/rise/static/reveal.js/css/theme/source/moon.scss -> /Users/fukushima/.pyenv/versions/anaconda3-4.0.0/lib/python3.5/site-packages/rise/static/reveal.js/css/theme/source\n",
      "copying build/lib/rise/static/reveal.js/css/theme/source/night.scss -> /Users/fukushima/.pyenv/versions/anaconda3-4.0.0/lib/python3.5/site-packages/rise/static/reveal.js/css/theme/source\n",
      "copying build/lib/rise/static/reveal.js/css/theme/source/serif.scss -> /Users/fukushima/.pyenv/versions/anaconda3-4.0.0/lib/python3.5/site-packages/rise/static/reveal.js/css/theme/source\n",
      "copying build/lib/rise/static/reveal.js/css/theme/source/simple.scss -> /Users/fukushima/.pyenv/versions/anaconda3-4.0.0/lib/python3.5/site-packages/rise/static/reveal.js/css/theme/source\n",
      "copying build/lib/rise/static/reveal.js/css/theme/source/sky.scss -> /Users/fukushima/.pyenv/versions/anaconda3-4.0.0/lib/python3.5/site-packages/rise/static/reveal.js/css/theme/source\n",
      "copying build/lib/rise/static/reveal.js/css/theme/source/solarized.scss -> /Users/fukushima/.pyenv/versions/anaconda3-4.0.0/lib/python3.5/site-packages/rise/static/reveal.js/css/theme/source\n",
      "copying build/lib/rise/static/reveal.js/css/theme/template/mixins.scss -> /Users/fukushima/.pyenv/versions/anaconda3-4.0.0/lib/python3.5/site-packages/rise/static/reveal.js/css/theme/template\n",
      "copying build/lib/rise/static/reveal.js/css/theme/template/settings.scss -> /Users/fukushima/.pyenv/versions/anaconda3-4.0.0/lib/python3.5/site-packages/rise/static/reveal.js/css/theme/template\n",
      "copying build/lib/rise/static/reveal.js/css/theme/template/theme.scss -> /Users/fukushima/.pyenv/versions/anaconda3-4.0.0/lib/python3.5/site-packages/rise/static/reveal.js/css/theme/template\n",
      "copying build/lib/rise/static/reveal.js/Gruntfile.js -> /Users/fukushima/.pyenv/versions/anaconda3-4.0.0/lib/python3.5/site-packages/rise/static/reveal.js\n",
      "copying build/lib/rise/static/reveal.js/index.html -> /Users/fukushima/.pyenv/versions/anaconda3-4.0.0/lib/python3.5/site-packages/rise/static/reveal.js\n",
      "copying build/lib/rise/static/reveal.js/js/reveal.js -> /Users/fukushima/.pyenv/versions/anaconda3-4.0.0/lib/python3.5/site-packages/rise/static/reveal.js/js\n",
      "copying build/lib/rise/static/reveal.js/js/reveal.min.js -> /Users/fukushima/.pyenv/versions/anaconda3-4.0.0/lib/python3.5/site-packages/rise/static/reveal.js/js\n",
      "copying build/lib/rise/static/reveal.js/lib/css/zenburn.css -> /Users/fukushima/.pyenv/versions/anaconda3-4.0.0/lib/python3.5/site-packages/rise/static/reveal.js/lib/css\n",
      "copying build/lib/rise/static/reveal.js/lib/font/league_gothic-webfont.eot -> /Users/fukushima/.pyenv/versions/anaconda3-4.0.0/lib/python3.5/site-packages/rise/static/reveal.js/lib/font\n",
      "copying build/lib/rise/static/reveal.js/lib/font/league_gothic-webfont.svg -> /Users/fukushima/.pyenv/versions/anaconda3-4.0.0/lib/python3.5/site-packages/rise/static/reveal.js/lib/font\n",
      "copying build/lib/rise/static/reveal.js/lib/font/league_gothic-webfont.ttf -> /Users/fukushima/.pyenv/versions/anaconda3-4.0.0/lib/python3.5/site-packages/rise/static/reveal.js/lib/font\n",
      "copying build/lib/rise/static/reveal.js/lib/font/league_gothic-webfont.woff -> /Users/fukushima/.pyenv/versions/anaconda3-4.0.0/lib/python3.5/site-packages/rise/static/reveal.js/lib/font\n",
      "copying build/lib/rise/static/reveal.js/lib/font/league_gothic_license -> /Users/fukushima/.pyenv/versions/anaconda3-4.0.0/lib/python3.5/site-packages/rise/static/reveal.js/lib/font\n",
      "copying build/lib/rise/static/reveal.js/lib/js/classList.js -> /Users/fukushima/.pyenv/versions/anaconda3-4.0.0/lib/python3.5/site-packages/rise/static/reveal.js/lib/js\n",
      "copying build/lib/rise/static/reveal.js/lib/js/head.min.js -> /Users/fukushima/.pyenv/versions/anaconda3-4.0.0/lib/python3.5/site-packages/rise/static/reveal.js/lib/js\n",
      "copying build/lib/rise/static/reveal.js/lib/js/html5shiv.js -> /Users/fukushima/.pyenv/versions/anaconda3-4.0.0/lib/python3.5/site-packages/rise/static/reveal.js/lib/js\n",
      "copying build/lib/rise/static/reveal.js/LICENSE -> /Users/fukushima/.pyenv/versions/anaconda3-4.0.0/lib/python3.5/site-packages/rise/static/reveal.js\n",
      "copying build/lib/rise/static/reveal.js/package.json -> /Users/fukushima/.pyenv/versions/anaconda3-4.0.0/lib/python3.5/site-packages/rise/static/reveal.js\n",
      "copying build/lib/rise/static/reveal.js/plugin/highlight/highlight.js -> /Users/fukushima/.pyenv/versions/anaconda3-4.0.0/lib/python3.5/site-packages/rise/static/reveal.js/plugin/highlight\n",
      "copying build/lib/rise/static/reveal.js/plugin/leap/leap.js -> /Users/fukushima/.pyenv/versions/anaconda3-4.0.0/lib/python3.5/site-packages/rise/static/reveal.js/plugin/leap\n",
      "copying build/lib/rise/static/reveal.js/plugin/markdown/example.html -> /Users/fukushima/.pyenv/versions/anaconda3-4.0.0/lib/python3.5/site-packages/rise/static/reveal.js/plugin/markdown\n",
      "copying build/lib/rise/static/reveal.js/plugin/markdown/example.md -> /Users/fukushima/.pyenv/versions/anaconda3-4.0.0/lib/python3.5/site-packages/rise/static/reveal.js/plugin/markdown\n",
      "copying build/lib/rise/static/reveal.js/plugin/markdown/markdown.js -> /Users/fukushima/.pyenv/versions/anaconda3-4.0.0/lib/python3.5/site-packages/rise/static/reveal.js/plugin/markdown\n",
      "copying build/lib/rise/static/reveal.js/plugin/markdown/marked.js -> /Users/fukushima/.pyenv/versions/anaconda3-4.0.0/lib/python3.5/site-packages/rise/static/reveal.js/plugin/markdown\n",
      "copying build/lib/rise/static/reveal.js/plugin/math/math.js -> /Users/fukushima/.pyenv/versions/anaconda3-4.0.0/lib/python3.5/site-packages/rise/static/reveal.js/plugin/math\n",
      "copying build/lib/rise/static/reveal.js/plugin/multiplex/client.js -> /Users/fukushima/.pyenv/versions/anaconda3-4.0.0/lib/python3.5/site-packages/rise/static/reveal.js/plugin/multiplex\n",
      "copying build/lib/rise/static/reveal.js/plugin/multiplex/index.js -> /Users/fukushima/.pyenv/versions/anaconda3-4.0.0/lib/python3.5/site-packages/rise/static/reveal.js/plugin/multiplex\n",
      "copying build/lib/rise/static/reveal.js/plugin/multiplex/master.js -> /Users/fukushima/.pyenv/versions/anaconda3-4.0.0/lib/python3.5/site-packages/rise/static/reveal.js/plugin/multiplex\n",
      "copying build/lib/rise/static/reveal.js/plugin/notes/notes.html -> /Users/fukushima/.pyenv/versions/anaconda3-4.0.0/lib/python3.5/site-packages/rise/static/reveal.js/plugin/notes\n",
      "copying build/lib/rise/static/reveal.js/plugin/notes/notes.js -> /Users/fukushima/.pyenv/versions/anaconda3-4.0.0/lib/python3.5/site-packages/rise/static/reveal.js/plugin/notes\n",
      "copying build/lib/rise/static/reveal.js/plugin/notes-server/client.js -> /Users/fukushima/.pyenv/versions/anaconda3-4.0.0/lib/python3.5/site-packages/rise/static/reveal.js/plugin/notes-server\n",
      "copying build/lib/rise/static/reveal.js/plugin/notes-server/index.js -> /Users/fukushima/.pyenv/versions/anaconda3-4.0.0/lib/python3.5/site-packages/rise/static/reveal.js/plugin/notes-server\n",
      "copying build/lib/rise/static/reveal.js/plugin/notes-server/notes.html -> /Users/fukushima/.pyenv/versions/anaconda3-4.0.0/lib/python3.5/site-packages/rise/static/reveal.js/plugin/notes-server\n",
      "copying build/lib/rise/static/reveal.js/plugin/postmessage/example.html -> /Users/fukushima/.pyenv/versions/anaconda3-4.0.0/lib/python3.5/site-packages/rise/static/reveal.js/plugin/postmessage\n",
      "copying build/lib/rise/static/reveal.js/plugin/postmessage/postmessage.js -> /Users/fukushima/.pyenv/versions/anaconda3-4.0.0/lib/python3.5/site-packages/rise/static/reveal.js/plugin/postmessage\n",
      "copying build/lib/rise/static/reveal.js/plugin/print-pdf/print-pdf.js -> /Users/fukushima/.pyenv/versions/anaconda3-4.0.0/lib/python3.5/site-packages/rise/static/reveal.js/plugin/print-pdf\n",
      "copying build/lib/rise/static/reveal.js/plugin/remotes/remotes.js -> /Users/fukushima/.pyenv/versions/anaconda3-4.0.0/lib/python3.5/site-packages/rise/static/reveal.js/plugin/remotes\n",
      "copying build/lib/rise/static/reveal.js/plugin/search/search.js -> /Users/fukushima/.pyenv/versions/anaconda3-4.0.0/lib/python3.5/site-packages/rise/static/reveal.js/plugin/search\n",
      "copying build/lib/rise/static/reveal.js/plugin/zoom-js/zoom.js -> /Users/fukushima/.pyenv/versions/anaconda3-4.0.0/lib/python3.5/site-packages/rise/static/reveal.js/plugin/zoom-js\n",
      "copying build/lib/rise/static/reveal.js/README.md -> /Users/fukushima/.pyenv/versions/anaconda3-4.0.0/lib/python3.5/site-packages/rise/static/reveal.js\n",
      "copying build/lib/rise/static/reveal.js/test/examples/assets/image1.png -> /Users/fukushima/.pyenv/versions/anaconda3-4.0.0/lib/python3.5/site-packages/rise/static/reveal.js/test/examples/assets\n",
      "copying build/lib/rise/static/reveal.js/test/examples/assets/image2.png -> /Users/fukushima/.pyenv/versions/anaconda3-4.0.0/lib/python3.5/site-packages/rise/static/reveal.js/test/examples/assets\n",
      "copying build/lib/rise/static/reveal.js/test/examples/barebones.html -> /Users/fukushima/.pyenv/versions/anaconda3-4.0.0/lib/python3.5/site-packages/rise/static/reveal.js/test/examples\n",
      "copying build/lib/rise/static/reveal.js/test/examples/embedded-media.html -> /Users/fukushima/.pyenv/versions/anaconda3-4.0.0/lib/python3.5/site-packages/rise/static/reveal.js/test/examples\n",
      "copying build/lib/rise/static/reveal.js/test/examples/math.html -> /Users/fukushima/.pyenv/versions/anaconda3-4.0.0/lib/python3.5/site-packages/rise/static/reveal.js/test/examples\n",
      "copying build/lib/rise/static/reveal.js/test/examples/slide-backgrounds.html -> /Users/fukushima/.pyenv/versions/anaconda3-4.0.0/lib/python3.5/site-packages/rise/static/reveal.js/test/examples\n",
      "copying build/lib/rise/static/reveal.js/test/qunit-1.12.0.css -> /Users/fukushima/.pyenv/versions/anaconda3-4.0.0/lib/python3.5/site-packages/rise/static/reveal.js/test\n",
      "copying build/lib/rise/static/reveal.js/test/qunit-1.12.0.js -> /Users/fukushima/.pyenv/versions/anaconda3-4.0.0/lib/python3.5/site-packages/rise/static/reveal.js/test\n",
      "copying build/lib/rise/static/reveal.js/test/test-markdown-element-attributes.html -> /Users/fukushima/.pyenv/versions/anaconda3-4.0.0/lib/python3.5/site-packages/rise/static/reveal.js/test\n",
      "copying build/lib/rise/static/reveal.js/test/test-markdown-element-attributes.js -> /Users/fukushima/.pyenv/versions/anaconda3-4.0.0/lib/python3.5/site-packages/rise/static/reveal.js/test\n",
      "copying build/lib/rise/static/reveal.js/test/test-markdown-slide-attributes.html -> /Users/fukushima/.pyenv/versions/anaconda3-4.0.0/lib/python3.5/site-packages/rise/static/reveal.js/test\n",
      "copying build/lib/rise/static/reveal.js/test/test-markdown-slide-attributes.js -> /Users/fukushima/.pyenv/versions/anaconda3-4.0.0/lib/python3.5/site-packages/rise/static/reveal.js/test\n",
      "copying build/lib/rise/static/reveal.js/test/test-markdown.html -> /Users/fukushima/.pyenv/versions/anaconda3-4.0.0/lib/python3.5/site-packages/rise/static/reveal.js/test\n",
      "copying build/lib/rise/static/reveal.js/test/test-markdown.js -> /Users/fukushima/.pyenv/versions/anaconda3-4.0.0/lib/python3.5/site-packages/rise/static/reveal.js/test\n",
      "copying build/lib/rise/static/reveal.js/test/test.html -> /Users/fukushima/.pyenv/versions/anaconda3-4.0.0/lib/python3.5/site-packages/rise/static/reveal.js/test\n",
      "copying build/lib/rise/static/reveal.js/test/test.js -> /Users/fukushima/.pyenv/versions/anaconda3-4.0.0/lib/python3.5/site-packages/rise/static/reveal.js/test\n",
      "byte-compiling /Users/fukushima/.pyenv/versions/anaconda3-4.0.0/lib/python3.5/site-packages/rise/__init__.py to __init__.cpython-35.pyc\n",
      "byte-compiling /Users/fukushima/.pyenv/versions/anaconda3-4.0.0/lib/python3.5/site-packages/rise/_version.py to _version.cpython-35.pyc\n",
      "running install_egg_info\n",
      "Removing /Users/fukushima/.pyenv/versions/anaconda3-4.0.0/lib/python3.5/site-packages/rise-4.0.0b1-py3.5.egg-info\n",
      "Writing /Users/fukushima/.pyenv/versions/anaconda3-4.0.0/lib/python3.5/site-packages/rise-4.0.0b1-py3.5.egg-info\n"
     ]
    },
    {
     "name": "stderr",
     "output_type": "stream",
     "text": [
      "fatal: destination path 'RISE' already exists and is not an empty directory.\n"
     ]
    }
   ],
   "source": [
    "%%bash\n",
    "git clone https://github.com/damianavila/RISE\n",
    "cd RISE\n",
    "python setup.py install"
   ]
  },
  {
   "cell_type": "markdown",
   "metadata": {
    "slideshow": {
     "slide_type": "subslide"
    }
   },
   "source": [
    "Anacondaを入れている場合は，次のコマンドが楽かも．"
   ]
  },
  {
   "cell_type": "code",
   "execution_count": 2,
   "metadata": {
    "collapsed": true,
    "slideshow": {
     "slide_type": "-"
    }
   },
   "outputs": [
    {
     "name": "stdout",
     "output_type": "stream",
     "text": [
      "Fetching package metadata .........\n",
      "Solving package specifications: ..........\n",
      "\n",
      "# All requested packages already installed.\n",
      "# packages in environment at /Users/fukushima/.pyenv/versions/anaconda3-4.0.0:\n",
      "#\n",
      "rise                      4.0.0b1                  py35_0    damianavila82\n"
     ]
    },
    {
     "name": "stderr",
     "output_type": "stream",
     "text": [
      "Using Anaconda Cloud api site https://api.anaconda.org\n"
     ]
    }
   ],
   "source": [
    "%%bash\n",
    "conda install -c damianavila82 rise"
   ]
  },
  {
   "cell_type": "markdown",
   "metadata": {
    "slideshow": {
     "slide_type": "subslide"
    }
   },
   "source": [
    "Jupyter Notebookを起動して，RISEのボタンが追加されていることを確認．\n",
    "<img src=\"fig/Jupyter_notebook_RISE_menu.png\" align=\"center\" width=\"80%\">"
   ]
  },
  {
   "cell_type": "markdown",
   "metadata": {
    "slideshow": {
     "slide_type": "slide"
    }
   },
   "source": [
    "# 実行例"
   ]
  },
  {
   "cell_type": "markdown",
   "metadata": {
    "slideshow": {
     "slide_type": "subslide"
    }
   },
   "source": [
    "## ① Slideshowの設定\n",
    "<img src=\"fig/Jupyter_notebook_RISE_select_slideshow.png\" align=\"center\" width=\"80%\">"
   ]
  },
  {
   "cell_type": "markdown",
   "metadata": {
    "slideshow": {
     "slide_type": "subslide"
    }
   },
   "source": [
    "## ② セルのSlide Typeの設定\n",
    "<img src=\"fig/Jupyter_slideshow.png\" align=\"center\" width=\"80%\">"
   ]
  },
  {
   "cell_type": "markdown",
   "metadata": {
    "slideshow": {
     "slide_type": "subslide"
    }
   },
   "source": [
    "## ③ コードの記述・実行"
   ]
  },
  {
   "cell_type": "code",
   "execution_count": 3,
   "metadata": {
    "collapsed": false,
    "scrolled": true,
    "slideshow": {
     "slide_type": "subslide"
    }
   },
   "outputs": [
    {
     "data": {
      "image/png": "[encoded data removed]",
      "text/plain": [
       "<matplotlib.figure.Figure at 0x10af75860>"
      ]
     },
     "metadata": {},
     "output_type": "display_data"
    }
   ],
   "source": [
    "%matplotlib inline\n",
    "import matplotlib.pyplot as plt\n",
    "from sklearn.datasets import load_iris\n",
    "#  Irisデータの読み込み\n",
    "iris = load_iris()\n",
    "X, y = iris.data, iris.target\n",
    "plt.scatter(X[:, 0], X[:, 1])\n",
    "plt.show()"
   ]
  },
  {
   "cell_type": "markdown",
   "metadata": {
    "slideshow": {
     "slide_type": "subslide"
    }
   },
   "source": [
    "## ④ スライドショーの実行\n",
    "- RISEのボタンを押す or Alt + Rキー．\n",
    "- Wキーでスライド一覧を参照．\n",
    "- スペースキーでスライドを進める．"
   ]
  },
  {
   "cell_type": "markdown",
   "metadata": {
    "slideshow": {
     "slide_type": "slide"
    }
   },
   "source": [
    "# まとめ\n",
    "- RISEを用いて，Jupyter Notebook上で簡易的に動的なスライドを作成できる．\n",
    "- スライドショーの実行中にコードの変更，再実行も可能．\n",
    "- 簡易的なデモや勉強会などで使えるかも．"
   ]
  }
 ],
 "metadata": {
  "celltoolbar": "Slideshow",
  "kernelspec": {
   "display_name": "Python 3",
   "language": "python",
   "name": "python3"
  },
  "language_info": {
   "codemirror_mode": {
    "name": "ipython",
    "version": 3
   },
   "file_extension": ".py",
   "mimetype": "text/x-python",
   "name": "python",
   "nbconvert_exporter": "python",
   "pygments_lexer": "ipython3",
   "version": "3.5.2"
  },
  "latex_envs": {
   "bibliofile": "biblio.bib",
   "cite_by": "apalike",
   "current_citInitial": 1,
   "eqLabelWithNumbers": true,
   "eqNumInitial": 0
  },
  "toc": {
   "toc_cell": false,
   "toc_number_sections": true,
   "toc_threshold": 6,
   "toc_window_display": false
  }
 },
 "nbformat": 4,
 "nbformat_minor": 0
}
